{
  "nbformat": 4,
  "nbformat_minor": 0,
  "metadata": {
    "colab": {
      "provenance": []
    },
    "kernelspec": {
      "name": "python3",
      "display_name": "Python 3"
    },
    "language_info": {
      "name": "python"
    }
  },
  "cells": [
    {
      "cell_type": "code",
      "execution_count": null,
      "metadata": {
        "id": "QKqxHWjht44K",
        "colab": {
          "base_uri": "https://localhost:8080/"
        },
        "outputId": "507550dc-afc7-47cf-d676-6523ac674c91"
      },
      "outputs": [
        {
          "output_type": "stream",
          "name": "stdout",
          "text": [
            "                                Show Id                          Title  \\\n",
            "0  cc1b6ed9-cf9e-4057-8303-34577fb54477                       (Un)Well   \n",
            "1  e2ef4e91-fb25-42ab-b485-be8e3b23dedb                         #Alive   \n",
            "2  b01b73b7-81f6-47a7-86d8-acb63080d525  #AnneFrank - Parallel Stories   \n",
            "3  b6611af0-f53c-4a08-9ffa-9716dc57eb9c                       #blackAF   \n",
            "4  7f2d4170-bab8-4d75-adc2-197f7124c070               #cats_the_mewvie   \n",
            "\n",
            "                                         Description  \\\n",
            "0  This docuseries takes a deep dive into the luc...   \n",
            "1  As a grisly virus rampages a city, a lone man ...   \n",
            "2  Through her diary, Anne Frank's story is retol...   \n",
            "3  Kenya Barris and his family navigate relations...   \n",
            "4  This pawesome documentary explores how our fel...   \n",
            "\n",
            "                      Director  \\\n",
            "0                          NaN   \n",
            "1                       Cho Il   \n",
            "2  Sabina Fedeli, Anna Migotto   \n",
            "3                          NaN   \n",
            "4             Michael Margolis   \n",
            "\n",
            "                                           Genres  \\\n",
            "0                                      Reality TV   \n",
            "1  Horror Movies, International Movies, Thrillers   \n",
            "2             Documentaries, International Movies   \n",
            "3                                     TV Comedies   \n",
            "4             Documentaries, International Movies   \n",
            "\n",
            "                                                Cast Production Country  \\\n",
            "0                                                NaN      United States   \n",
            "1                           Yoo Ah-in, Park Shin-hye        South Korea   \n",
            "2                        Helen Mirren, Gengher Gatti              Italy   \n",
            "3  Kenya Barris, Rashida Jones, Iman Benson, Genn...      United States   \n",
            "4                                                NaN             Canada   \n",
            "\n",
            "   Release Date Rating  Duration Imdb Score Content Type         Date Added  \n",
            "0        2020.0  TV-MA  1 Season     6.6/10      TV Show                NaN  \n",
            "1        2020.0  TV-MA    99 min     6.2/10        Movie  September 8, 2020  \n",
            "2        2019.0  TV-14    95 min     6.4/10        Movie       July 1, 2020  \n",
            "3        2020.0  TV-MA  1 Season     6.6/10      TV Show                NaN  \n",
            "4        2020.0  TV-14    90 min     5.1/10        Movie   February 5, 2020  \n"
          ]
        }
      ],
      "source": [
        "import numpy as np  # Importe la bibliothèque NumPy, utilisée pour la manipulation de matrices et d'opérations mathématiques avancées.\n",
        "import pandas as pd  # Importe la bibliothèque pandas, qui permet de charger et de manipuler des données sous forme de DataFrame (tableaux de données).\n",
        "from sklearn.feature_extraction import text  # Importe le module de transformation de texte de scikit-learn, qui inclut des outils pour vectoriser du texte.\n",
        "from sklearn.metrics.pairwise import cosine_similarity  # Importe la fonction cosine_similarity pour calculer la similarité cosinus entre des vecteurs.\n",
        "\n",
        "data = pd.read_csv(\"netflixData.csv\")  # Charge les données à partir d'un fichier CSV nommé 'netflixData.csv' dans un DataFrame pandas.\n",
        "print(data.head())  # Affiche les 5 premières lignes du DataFrame pour un aperçu rapide des données.\n"
      ]
    },
    {
      "cell_type": "code",
      "source": [
        "print(data.isnull().sum())"
      ],
      "metadata": {
        "colab": {
          "base_uri": "https://localhost:8080/"
        },
        "id": "_Wu-LN88HLbc",
        "outputId": "a1b6f07c-b2f1-49ef-d4fe-c0e7c216265e"
      },
      "execution_count": null,
      "outputs": [
        {
          "output_type": "stream",
          "name": "stdout",
          "text": [
            "Show Id                  0\n",
            "Title                    0\n",
            "Description              0\n",
            "Director              2064\n",
            "Genres                   0\n",
            "Cast                   530\n",
            "Production Country     559\n",
            "Release Date             3\n",
            "Rating                   4\n",
            "Duration                 3\n",
            "Imdb Score             608\n",
            "Content Type             0\n",
            "Date Added            1335\n",
            "dtype: int64\n"
          ]
        }
      ]
    },
    {
      "cell_type": "code",
      "source": [
        "data = data[[\"Title\", \"Description\", \"Content Type\", \"Genres\"]]\n",
        "print(data.head())"
      ],
      "metadata": {
        "colab": {
          "base_uri": "https://localhost:8080/"
        },
        "id": "RlCcXqaBHMCo",
        "outputId": "168061c6-47df-4fcb-f658-1b07428a89f2"
      },
      "execution_count": null,
      "outputs": [
        {
          "output_type": "stream",
          "name": "stdout",
          "text": [
            "                           Title  \\\n",
            "0                       (Un)Well   \n",
            "1                         #Alive   \n",
            "2  #AnneFrank - Parallel Stories   \n",
            "3                       #blackAF   \n",
            "4               #cats_the_mewvie   \n",
            "\n",
            "                                         Description Content Type  \\\n",
            "0  This docuseries takes a deep dive into the luc...      TV Show   \n",
            "1  As a grisly virus rampages a city, a lone man ...        Movie   \n",
            "2  Through her diary, Anne Frank's story is retol...        Movie   \n",
            "3  Kenya Barris and his family navigate relations...      TV Show   \n",
            "4  This pawesome documentary explores how our fel...        Movie   \n",
            "\n",
            "                                           Genres  \n",
            "0                                      Reality TV  \n",
            "1  Horror Movies, International Movies, Thrillers  \n",
            "2             Documentaries, International Movies  \n",
            "3                                     TV Comedies  \n",
            "4             Documentaries, International Movies  \n"
          ]
        }
      ]
    },
    {
      "cell_type": "code",
      "source": [
        "data = data.dropna()"
      ],
      "metadata": {
        "id": "T5hZD4_rHQXw"
      },
      "execution_count": null,
      "outputs": []
    },
    {
      "cell_type": "markdown",
      "source": [
        "La fonction clean est utilisée pour nettoyer les textes en préparation à une analyse plus approfondie, comme le calcul de similarités textuelles, la vectorisation TF-IDF ou d'autres techniques de traitement du langage naturel (NLP). Cela améliore la qualité des données textuelles en éliminant le bruit (comme la ponctuation, les liens, et les stopwords) et en simplifiant les mots à leur forme la plus essentielle."
      ],
      "metadata": {
        "id": "VdfdNH2PcSgc"
      }
    },
    {
      "cell_type": "code",
      "source": [
        "import nltk  # Importation de la bibliothèque pour le traitement du langage naturel\n",
        "import re  # Importation de la bibliothèque pour les expressions régulières\n",
        "nltk.download('stopwords')  # Téléchargement des mots vides (stopwords) en anglais\n",
        "stemmer = nltk.SnowballStemmer(\"english\")  # Initialisation de l'outil pour réduire les mots à leur racine\n",
        "from nltk.corpus import stopwords  # Importation de l'ensemble des stopwords\n",
        "import string  # Importation de la bibliothèque pour gérer la ponctuation\n",
        "stopword = set(stopwords.words('english'))  # Récupération des stopwords dans un ensemble\n",
        "\n",
        "def clean(text):\n",
        "    text = str(text).lower()  # Conversion du texte en minuscules\n",
        "    text = re.sub('\\[.*?\\]', '', text)  # Suppression de tout ce qui est entre crochets\n",
        "    text = re.sub('https?://\\S+|www\\.\\S+', '', text)  # Suppression des liens web\n",
        "    text = re.sub('<.*?>+', '', text)  # Suppression des balises HTML\n",
        "    text = re.sub('[%s]' % re.escape(string.punctuation), '', text)  # Suppression de la ponctuation\n",
        "    text = re.sub('\\n', '', text)  # Suppression des sauts de ligne\n",
        "    text = re.sub('\\w*\\d\\w*', '', text)  # Suppression des mots contenant des chiffres\n",
        "    text = [word for word in text.split(' ') if word not in stopword]  # Suppression des stopwords\n",
        "    text = \" \".join(text)  # Recomposition du texte en une chaîne de caractères\n",
        "    text = [stemmer.stem(word) for word in text.split(' ')]  # Réduction des mots à leur racine\n",
        "    text = \" \".join(text)  # Recomposition à nouveau du texte\n",
        "    return text\n",
        "\n",
        "data[\"Title\"] = data[\"Title\"].apply(clean)  # Application de la fonction clean sur la colonne \"Title\" du DataFrame data\n"
      ],
      "metadata": {
        "colab": {
          "base_uri": "https://localhost:8080/"
        },
        "id": "vsFypprsMDDU",
        "outputId": "c1d7ab51-e39a-428e-b140-bc8d86e19d38"
      },
      "execution_count": null,
      "outputs": [
        {
          "output_type": "stream",
          "name": "stderr",
          "text": [
            "[nltk_data] Downloading package stopwords to /root/nltk_data...\n",
            "[nltk_data]   Unzipping corpora/stopwords.zip.\n"
          ]
        }
      ]
    },
    {
      "cell_type": "markdown",
      "source": [
        "Conversion en minuscules : Cela permet d'uniformiser le texte, car \"Book\" et \"book\" seront désormais considérés comme la même chose.\n",
        "\n",
        "Suppression de contenu entre crochets : Supprime les annotations ou informations non pertinentes présentes dans le texte (comme des références bibliographiques).\n",
        "\n",
        "Suppression des liens : Les URL ne sont pas utiles pour l'analyse de texte et doivent être supprimées.\n",
        "\n",
        "Suppression des balises HTML : Si le texte contient du HTML (par exemple, après extraction depuis une page web), ces balises sont éliminées.\n",
        "\n",
        "Suppression de la ponctuation : Les symboles de ponctuation ne sont généralement pas utiles dans l'analyse sémantique.\n",
        "\n",
        "Suppression des sauts de ligne : Les lignes vides sont éliminées pour éviter de fausser l'analyse du texte.\n",
        "\n",
        "Suppression des mots contenant des chiffres : Parfois, les mots avec des chiffres (comme \"book123\") ne sont pas pertinents pour l'analyse textuelle.\n",
        "Suppression des stopwords : Les mots vides sont filtrés car ils n'ajoutent pas de sens utile au texte.\n",
        "\n",
        "Réduction des mots à leur racine (stemming) : Cela permet de réduire les variantes des mots à leur forme de base, ce qui simplifie l'analyse du texte en regroupant des mots similaires.\n",
        "\n",
        "Recomposition du texte : Après avoir transformé chaque mot, le texte est recomposé en une chaîne de caractères pour une utilisation future."
      ],
      "metadata": {
        "id": "QjNnOziVcagm"
      }
    },
    {
      "cell_type": "code",
      "source": [
        "print(data.Title.sample(10))"
      ],
      "metadata": {
        "colab": {
          "base_uri": "https://localhost:8080/"
        },
        "id": "EDNsB4WIMZ9U",
        "outputId": "499aae1f-f2dd-4462-ace2-b93e853c9b77"
      },
      "execution_count": null,
      "outputs": [
        {
          "output_type": "stream",
          "name": "stdout",
          "text": [
            "5714                        warrior\n",
            "5580                  uncl naji uae\n",
            "2600                la ley de herod\n",
            "3259                      must love\n",
            "4189                       sex educ\n",
            "2904    maharaja stori ranjit singh\n",
            "2281                     invis citi\n",
            "5608                        unknown\n",
            "2786                    lost london\n",
            "1502         enissa amani ehrenwort\n",
            "Name: Title, dtype: object\n"
          ]
        }
      ]
    },
    {
      "cell_type": "markdown",
      "source": [],
      "metadata": {
        "id": "3qtPwF-3cZIk"
      }
    },
    {
      "cell_type": "code",
      "source": [
        "# Convertir la colonne \"Genres\" en une liste de chaînes de caractères\n",
        "feature = data[\"Genres\"].tolist()#pas necessaire voir que ça marche\n",
        "\n",
        "# Importation de l'outil TfidfVectorizer pour convertir le texte en une matrice de TF-IDF\n",
        "from sklearn.feature_extraction.text import TfidfVectorizer\n",
        "\n",
        "# Initialisation du TfidfVectorizer en spécifiant les mots vides en anglais\n",
        "tfidf = TfidfVectorizer(stop_words=\"english\")\n",
        "\n",
        "# Transformation de la liste de genres en une matrice TF-IDF\n",
        "tfidf_matrix = tfidf.fit_transform(feature)\n",
        "\n",
        "# Importation de la fonction cosine_similarity pour calculer la similarité cosinus entre les documents\n",
        "from sklearn.metrics.pairwise import cosine_similarity\n",
        "\n",
        "# Calcul de la similarité cosinus entre les documents de la matrice TF-IDF\n",
        "similarity = cosine_similarity(tfidf_matrix)\n"
      ],
      "metadata": {
        "id": "o1A5LER-MjKx"
      },
      "execution_count": null,
      "outputs": []
    },
    {
      "cell_type": "markdown",
      "source": [
        "TfidfVectorizer est utilisé pour transformer des données textuelles (comme des genres de films) en une matrice TF-IDF, où chaque terme a un poids basé sur sa fréquence dans le texte et sa rareté dans l'ensemble de documents.\n",
        "\n",
        "Cette étape configure le vecteur TF-IDF pour ignorer les mots vides (stopwords) comme \"the\", \"is\", etc., car ces mots ne sont pas utiles pour l'analyse de similarité entre documents.\n",
        "\n",
        "cosine_similarity est une méthode qui calcule la similarité entre deux vecteurs en utilisant le cosinus de l'angle entre eux. C'est une mesure courante pour évaluer à quel point deux documents sont similaires en termes de contenu (ici, les genres)."
      ],
      "metadata": {
        "id": "eIwX6QM2gjJf"
      }
    },
    {
      "cell_type": "markdown",
      "source": [],
      "metadata": {
        "id": "NEKEbsOpgC6n"
      }
    },
    {
      "cell_type": "code",
      "source": [
        "indices = pd.Series(data.index,  # Crée une série pandas où les valeurs seront les index du DataFrame 'data'\n",
        "                    index=data['Title']) \\\n",
        "                    .drop_duplicates()  # Supprime les doublons dans la colonne 'Title' s'il y en a"
      ],
      "metadata": {
        "id": "9Zw3nE5BM49w"
      },
      "execution_count": null,
      "outputs": []
    },
    {
      "cell_type": "markdown",
      "source": [
        "Mappage entre titres et indices : Cette commande crée une structure où chaque titre de film ou de série devient une clé associée à son index dans le DataFrame. Cela permet de retrouver rapidement l'index d'un titre en particulier. Ce type de mappage est souvent utilisé dans les systèmes de recommandation, car il facilite la recherche des lignes associées à un titre spécifique.\n",
        "\n",
        "Optimisation des recherches : En transformant la colonne Title en index et en supprimant les doublons, on peut rapidement rechercher un titre spécifique pour accéder à son index, ce qui est plus efficace que de parcourir toute la colonne chaque fois qu'in veut obtenir l'index d'un titre."
      ],
      "metadata": {
        "id": "q5HyIczBgD2Z"
      }
    },
    {
      "cell_type": "code",
      "source": [
        "print(similarity)"
      ],
      "metadata": {
        "colab": {
          "base_uri": "https://localhost:8080/"
        },
        "id": "tlcYiVPMdEKZ",
        "outputId": "e69c1d44-9c10-4309-a9a4-b08fc814c1bd"
      },
      "execution_count": null,
      "outputs": [
        {
          "output_type": "stream",
          "name": "stdout",
          "text": [
            "[[1.         0.         0.         ... 0.32075218 0.         0.        ]\n",
            " [0.         1.         0.30428612 ... 0.07587812 0.68953015 0.15936057]\n",
            " [0.         0.30428612 1.         ... 0.11962968 0.27899812 0.12562419]\n",
            " ...\n",
            " [0.32075218 0.07587812 0.11962968 ... 1.         0.25478887 0.        ]\n",
            " [0.         0.68953015 0.27899812 ... 0.25478887 1.         0.110801  ]\n",
            " [0.         0.15936057 0.12562419 ... 0.         0.110801   1.        ]]\n"
          ]
        }
      ]
    },
    {
      "cell_type": "code",
      "source": [
        "def netFlix_recommendation(title, similarity = similarity):\n",
        "    index = indices[title]  # Trouve l'index du film/série correspondant au titre fourni\n",
        "    similarity_scores = list(enumerate(similarity[index]))  # Calcule la similarité entre ce film et tous les autres films/séries\n",
        "    similarity_scores = sorted(similarity_scores, key=lambda x: x[1], reverse=True)  # Trie les films en fonction de la similarité décroissante\n",
        "    similarity_scores = similarity_scores[0:10]  # Sélectionne les 10 films les plus similaires (y compris le film de référence)\n",
        "    movieindices = [i[0] for i in similarity_scores]  # Récupère les indices des films similaires\n",
        "    return data['Title'].iloc[movieindices]  # Retourne les titres des films correspondants à ces indices\n",
        "\n",
        "\n",
        "print(netFlix_recommendation(\"flower\"))\n"
      ],
      "metadata": {
        "colab": {
          "base_uri": "https://localhost:8080/"
        },
        "id": "JRokGTlR5icT",
        "outputId": "36390c79-ef7a-48da-d5d1-c919c93d4bd0"
      },
      "execution_count": null,
      "outputs": [
        {
          "output_type": "stream",
          "name": "stdout",
          "text": [
            "214                life\n",
            "1122          crazyhead\n",
            "1148             cuckoo\n",
            "1273              derek\n",
            "1277         derri girl\n",
            "1660             flower\n",
            "2759               load\n",
            "2930                man\n",
            "2931    man like mobeen\n",
            "3025      meet adebanjo\n",
            "Name: Title, dtype: object\n"
          ]
        }
      ]
    },
    {
      "cell_type": "code",
      "source": [
        "print(similarity[indices[3]])"
      ],
      "metadata": {
        "colab": {
          "base_uri": "https://localhost:8080/"
        },
        "id": "MyVmsTMg-SsD",
        "outputId": "59cd5d8c-58da-4bb0-f273-d94c92931a34"
      },
      "execution_count": null,
      "outputs": [
        {
          "output_type": "stream",
          "name": "stdout",
          "text": [
            "[0.28149586 0.         0.         ... 0.50606006 0.         0.        ]\n"
          ]
        },
        {
          "output_type": "stream",
          "name": "stderr",
          "text": [
            "<ipython-input-13-98405833da11>:1: FutureWarning: Series.__getitem__ treating keys as positions is deprecated. In a future version, integer keys will always be treated as labels (consistent with DataFrame behavior). To access a value by position, use `ser.iloc[pos]`\n",
            "  print(similarity[indices[3]])\n"
          ]
        }
      ]
    },
    {
      "cell_type": "code",
      "source": [
        "!pip install matplotlib\n",
        "import matplotlib.pyplot as plt\n",
        "\n",
        "# Étape 1 : Préparation et nettoyage des données\n",
        "data = data[['Title', 'Genres']].dropna()  # Garde uniquement les colonnes pertinentes et supprime les lignes vides\n",
        "data.reset_index(drop=True, inplace=True)  # Réinitialise les index\n",
        "\n",
        "# Vectorisation TF-IDF sur les genres\n",
        "tfidf = TfidfVectorizer(stop_words=\"english\")\n",
        "tfidf_matrix = tfidf.fit_transform(data['Genres'])\n",
        "\n",
        "# Calcul de la matrice de similarité\n",
        "similarity_matrix = cosine_similarity(tfidf_matrix)\n",
        "\n",
        "# Mapping des titres aux indices\n",
        "indices = pd.Series(data.index, index=data['Title']).drop_duplicates()\n",
        "\n",
        "# Étape 2 : Implémentation des recommandations optimisées\n",
        "from sklearn.cluster import KMeans # Import KMeans from sklearn.cluster\n",
        "n_clusters = 10  # Choix du nombre de clusters\n",
        "kmeans = KMeans(n_clusters=n_clusters, random_state=42)\n",
        "data['Cluster'] = kmeans.fit_predict(tfidf_matrix)\n",
        "\n",
        "# Fonction améliorée pour les recommandations\n",
        "def optimized_netflix_recommendation(title, data, similarity_matrix):\n",
        "    index = indices[title]  # Trouve l'index du titre\n",
        "    cluster_id = data.loc[index, 'Cluster']  # Trouve le cluster du titre\n",
        "    cluster_data = data[data['Cluster'] == cluster_id]  # Sélectionne les titres dans le même cluster\n",
        "    cluster_indices = cluster_data.index.tolist()\n",
        "    cluster_similarity = similarity_matrix[index][cluster_indices]  # Similarité au sein du cluster\n",
        "\n",
        "    similarity_scores = sorted(\n",
        "        zip(cluster_indices, cluster_similarity), key=lambda x: x[1], reverse=True\n",
        "    )\n",
        "    top_indices = [i[0] for i in similarity_scores[:10]]\n",
        "    return data.loc[top_indices, 'Title']\n",
        "\n",
        "# Étape 3 : Mesure des performances\n",
        "import time\n",
        "\n",
        "start_time = time.time()\n",
        "original_recommendations = netFlix_recommendation(\"flower\")\n",
        "original_time = time.time() - start_time\n",
        "\n",
        "start_time = time.time()\n",
        "optimized_recommendations = optimized_netflix_recommendation(\"flower\", data, similarity_matrix)\n",
        "optimized_time = time.time() - start_time\n",
        "\n",
        "# Étape 4 : Visualisation des gains\n",
        "times = [original_time, optimized_time]\n",
        "labels = ['Original Recommendation', 'Optimized Recommendation']\n",
        "\n",
        "plt.figure(figsize=(8, 5))\n",
        "plt.bar(labels, times, color='skyblue')\n",
        "plt.title('Temps d\\'exécution des recommandations')\n",
        "plt.ylabel('Temps (secondes)')\n",
        "plt.show()\n",
        "\n",
        "# Afficher les résultats de recommandations\n",
        "print(\"Original Recommendations:\", original_recommendations.tolist())\n",
        "print(\"Optimized Recommendations:\", optimized_recommendations.tolist())\n"
      ],
      "metadata": {
        "id": "y-nVqSu5d6N5",
        "colab": {
          "base_uri": "https://localhost:8080/",
          "height": 714
        },
        "outputId": "529be514-e0ad-423a-bd16-2ac0581bc762"
      },
      "execution_count": null,
      "outputs": [
        {
          "output_type": "stream",
          "name": "stdout",
          "text": [
            "Requirement already satisfied: matplotlib in /usr/local/lib/python3.10/dist-packages (3.8.0)\n",
            "Requirement already satisfied: contourpy>=1.0.1 in /usr/local/lib/python3.10/dist-packages (from matplotlib) (1.3.1)\n",
            "Requirement already satisfied: cycler>=0.10 in /usr/local/lib/python3.10/dist-packages (from matplotlib) (0.12.1)\n",
            "Requirement already satisfied: fonttools>=4.22.0 in /usr/local/lib/python3.10/dist-packages (from matplotlib) (4.55.0)\n",
            "Requirement already satisfied: kiwisolver>=1.0.1 in /usr/local/lib/python3.10/dist-packages (from matplotlib) (1.4.7)\n",
            "Requirement already satisfied: numpy<2,>=1.21 in /usr/local/lib/python3.10/dist-packages (from matplotlib) (1.26.4)\n",
            "Requirement already satisfied: packaging>=20.0 in /usr/local/lib/python3.10/dist-packages (from matplotlib) (24.2)\n",
            "Requirement already satisfied: pillow>=6.2.0 in /usr/local/lib/python3.10/dist-packages (from matplotlib) (11.0.0)\n",
            "Requirement already satisfied: pyparsing>=2.3.1 in /usr/local/lib/python3.10/dist-packages (from matplotlib) (3.2.0)\n",
            "Requirement already satisfied: python-dateutil>=2.7 in /usr/local/lib/python3.10/dist-packages (from matplotlib) (2.8.2)\n",
            "Requirement already satisfied: six>=1.5 in /usr/local/lib/python3.10/dist-packages (from python-dateutil>=2.7->matplotlib) (1.16.0)\n"
          ]
        },
        {
          "output_type": "display_data",
          "data": {
            "text/plain": [
              "<Figure size 800x500 with 1 Axes>"
            ],
            "image/png": "[encoded data removed]"
          },
          "metadata": {}
        },
        {
          "output_type": "stream",
          "name": "stdout",
          "text": [
            "Original Recommendations: ['life', 'crazyhead', 'cuckoo', 'derek', 'derri girl', 'flower', 'load', 'man', 'man like mobeen', 'meet adebanjo']\n",
            "Optimized Recommendations: ['life', 'crazyhead', 'cuckoo', 'derek', 'derri girl', 'flower', 'load', 'man', 'man like mobeen', 'meet adebanjo']\n"
          ]
        }
      ]
    },
    {
      "cell_type": "markdown",
      "source": [
        "Dans l'approche originale, le calcul de la similarité implique de comparer l'élément cible à tous les éléments de l'ensemble de données, ce qui augmente le temps d'exécution.\n",
        "Avec le regroupement, la recherche est limitée à un sous-ensemble spécifique (regroupement) d'éléments similaires, ce qui réduit le nombre de comparaisons et donc le temps d'exécution.\n",
        "Efficacité informatique :\n",
        "\n",
        "En regroupant au préalable les éléments en grappes, le système évite les calculs redondants pour les éléments non pertinents, ce qui a un impact direct sur la vitesse du processus de recommandation.\n",
        "Performance en temps réel :\n",
        "\n",
        "Le système optimisé peut générer des recommandations plus rapidement, ce qui le rend plus adapté aux applications en temps réel où l'expérience de l'utilisateur dépend d'une faible latence.\n"
      ],
      "metadata": {
        "id": "LQe-pg4x26fW"
      }
    },
    {
      "cell_type": "code",
      "source": [],
      "metadata": {
        "id": "5aVFuufb3Ysz"
      },
      "execution_count": null,
      "outputs": []
    }
  ]
}